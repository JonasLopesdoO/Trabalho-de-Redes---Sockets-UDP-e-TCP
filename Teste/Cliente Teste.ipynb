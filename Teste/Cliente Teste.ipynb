{
 "cells": [
  {
   "cell_type": "markdown",
   "metadata": {},
   "source": [
    "# Cliente UDP"
   ]
  },
  {
   "cell_type": "code",
   "execution_count": 19,
   "metadata": {},
   "outputs": [],
   "source": [
    "#o modulo socket é a base para toda a comunicação Python em rede\n",
    "from socket import *"
   ]
  },
  {
   "cell_type": "code",
   "execution_count": 20,
   "metadata": {},
   "outputs": [],
   "source": [
    "#o nome ou IP do servidor. Se nome, uma consulta DNS será realizada. Porta do servidor.\n",
    "serverName = 'localhost'\n",
    "serverPort = 1234\n",
    "#serverPort = 1234"
   ]
  },
  {
   "cell_type": "code",
   "execution_count": 21,
   "metadata": {},
   "outputs": [],
   "source": [
    "#cria um socket cliente. O primeiro parametro indica que o endereço é o IPv4. o segundo indica que é UDP\n",
    "#se a porta não é especificada, o SO escolhe uma aleatória\n",
    "clientSocket = socket(AF_INET, SOCK_DGRAM)"
   ]
  },
  {
   "cell_type": "code",
   "execution_count": 22,
   "metadata": {},
   "outputs": [
    {
     "name": "stdout",
     "output_type": "stream",
     "text": [
      "asdfasdfasdfsadfasdf\n"
     ]
    }
   ],
   "source": [
    "#input() espera uma entrada do teclado para formar a msg\n",
    "'''receba uma mensagem do teclado para a mensagem (message) a ser enviada'''\n",
    "message = input()"
   ]
  },
  {
   "cell_type": "code",
   "execution_count": 23,
   "metadata": {},
   "outputs": [
    {
     "data": {
      "text/plain": [
       "20"
      ]
     },
     "execution_count": 23,
     "metadata": {},
     "output_type": "execute_result"
    }
   ],
   "source": [
    "#envia a msg. .encode() transforma a string em bytes. as informações de ip de origem e porta também\n",
    "#estão contidas na mensagem\n",
    "clientSocket.sendto(message.encode(),(serverName, serverPort))"
   ]
  },
  {
   "cell_type": "code",
   "execution_count": 24,
   "metadata": {},
   "outputs": [],
   "source": [
    "#recebe a msg. modifiedMessage guarda a msg e serverAddress guarda o ip e porta do servidor (não é necessário)\n",
    "#buffer de 2048\n",
    "modifiedMessage, serverAddress = clientSocket.recvfrom(2048)"
   ]
  },
  {
   "cell_type": "code",
   "execution_count": 25,
   "metadata": {
    "scrolled": true
   },
   "outputs": [
    {
     "name": "stdout",
     "output_type": "stream",
     "text": [
      "ASDFASDFASDFSADFASDF\n"
     ]
    }
   ],
   "source": [
    "#imprime a msg recebida do servidor\n",
    "print(modifiedMessage.decode())"
   ]
  },
  {
   "cell_type": "code",
   "execution_count": 26,
   "metadata": {},
   "outputs": [],
   "source": [
    "#fecha o socket\n",
    "clientSocket.close()"
   ]
  }
 ],
 "metadata": {
  "kernelspec": {
   "display_name": "Python 3",
   "language": "python",
   "name": "python3"
  },
  "language_info": {
   "codemirror_mode": {
    "name": "ipython",
    "version": 3
   },
   "file_extension": ".py",
   "mimetype": "text/x-python",
   "name": "python",
   "nbconvert_exporter": "python",
   "pygments_lexer": "ipython3",
   "version": "3.7.1"
  }
 },
 "nbformat": 4,
 "nbformat_minor": 2
}
