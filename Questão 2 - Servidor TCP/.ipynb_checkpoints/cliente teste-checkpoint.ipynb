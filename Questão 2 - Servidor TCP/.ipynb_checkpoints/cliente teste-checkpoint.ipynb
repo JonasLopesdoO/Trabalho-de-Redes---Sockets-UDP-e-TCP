{
 "cells": [
  {
   "cell_type": "code",
   "execution_count": null,
   "metadata": {},
   "outputs": [],
   "source": [
    "#serv_sock.py\n",
    "\n",
    "import socket\n",
    "\n",
    "HOST = ''\n",
    "PORT = 5000\n",
    "\n",
    "s = socket.socket(socket.AF_INET, socket.SOCK_STREAM)\n",
    "s.bind((HOST, PORT))\n",
    "s.listen(1)\n",
    "\n",
    "conn, addr = s.accept()\n",
    "arq = open(os.getcwd() + 'index.html', 'w')\n",
    "\n",
    "while 1:\n",
    "    dados = conn.recv(1024)\n",
    "    if not dados:\n",
    "        break\n",
    "    arq.write(dados)\n",
    "\n",
    "arq.close()\n",
    "conn.close()"
   ]
  }
 ],
 "metadata": {
  "kernelspec": {
   "display_name": "Python 3",
   "language": "python",
   "name": "python3"
  },
  "language_info": {
   "codemirror_mode": {
    "name": "ipython",
    "version": 3
   },
   "file_extension": ".py",
   "mimetype": "text/x-python",
   "name": "python",
   "nbconvert_exporter": "python",
   "pygments_lexer": "ipython3",
   "version": "3.7.1"
  }
 },
 "nbformat": 4,
 "nbformat_minor": 2
}
