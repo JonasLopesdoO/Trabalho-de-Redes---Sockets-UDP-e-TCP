{
 "cells": [
  {
   "cell_type": "code",
   "execution_count": null,
   "metadata": {},
   "outputs": [],
   "source": [
    "#import socket module\n",
    "from socket import *\n",
    "import sys # para terminar o programa\n",
    "import os\n",
    "import string,cgi,time\n",
    "from http.server import BaseHTTPRequestHandler, HTTPServer"
   ]
  },
  {
   "cell_type": "code",
   "execution_count": null,
   "metadata": {},
   "outputs": [],
   "source": [
    "serverSocket = socket(AF_INET, SOCK_STREAM)"
   ]
  },
  {
   "cell_type": "code",
   "execution_count": null,
   "metadata": {},
   "outputs": [],
   "source": [
    "#Prepara o socket servidor\n",
    "#codigo_inicio\n",
    "\n",
    "HOST = ''              # Endereco IP do Servidor\n",
    "PORT = 5003            # Porta que o Servidor esta\n",
    "serverTcp = socket(AF_INET, SOCK_STREAM)\n",
    "orig = (HOST, PORT)\n",
    "serverTcp.bind(orig)\n",
    "serverTcp.listen(1)\n",
    "\n",
    "#codigo_fim"
   ]
  },
  {
   "cell_type": "code",
   "execution_count": 26,
   "metadata": {},
   "outputs": [
    {
     "name": "stdout",
     "output_type": "stream",
     "text": [
      "Ready to serve...\n",
      "Conectado por ('127.0.0.1', 54758)\n"
     ]
    },
    {
     "ename": "OSError",
     "evalue": "[WinError 10038] Foi tentada uma operação em algum item que não é um soquete",
     "output_type": "error",
     "traceback": [
      "\u001b[1;31m---------------------------------------------------------------------------\u001b[0m",
      "\u001b[1;31mOSError\u001b[0m                                   Traceback (most recent call last)",
      "\u001b[1;32m<ipython-input-26-a1cf53320f68>\u001b[0m in \u001b[0;36m<module>\u001b[1;34m\u001b[0m\n\u001b[0;32m     30\u001b[0m         \u001b[1;32mfor\u001b[0m \u001b[0mi\u001b[0m \u001b[1;32min\u001b[0m \u001b[0mrange\u001b[0m\u001b[1;33m(\u001b[0m\u001b[1;36m0\u001b[0m\u001b[1;33m,\u001b[0m \u001b[0mlen\u001b[0m\u001b[1;33m(\u001b[0m\u001b[0moutputdata\u001b[0m\u001b[1;33m)\u001b[0m\u001b[1;33m)\u001b[0m\u001b[1;33m:\u001b[0m\u001b[1;33m\u001b[0m\u001b[1;33m\u001b[0m\u001b[0m\n\u001b[1;32m---> 31\u001b[1;33m             \u001b[0mconnectionSocket\u001b[0m\u001b[1;33m.\u001b[0m\u001b[0msend\u001b[0m\u001b[1;33m(\u001b[0m\u001b[0moutputdata\u001b[0m\u001b[1;33m[\u001b[0m\u001b[0mi\u001b[0m\u001b[1;33m]\u001b[0m\u001b[1;33m.\u001b[0m\u001b[0mencode\u001b[0m\u001b[1;33m(\u001b[0m\u001b[1;33m)\u001b[0m\u001b[1;33m)\u001b[0m\u001b[1;33m\u001b[0m\u001b[1;33m\u001b[0m\u001b[0m\n\u001b[0m\u001b[0;32m     32\u001b[0m             \u001b[0mconnectionSocket\u001b[0m\u001b[1;33m.\u001b[0m\u001b[0msend\u001b[0m\u001b[1;33m(\u001b[0m\u001b[1;34m\"\\r\\n\"\u001b[0m\u001b[1;33m.\u001b[0m\u001b[0mencode\u001b[0m\u001b[1;33m(\u001b[0m\u001b[1;33m)\u001b[0m\u001b[1;33m)\u001b[0m\u001b[1;33m\u001b[0m\u001b[1;33m\u001b[0m\u001b[0m\n",
      "\u001b[1;31mOSError\u001b[0m: [WinError 10038] Foi tentada uma operação em algum item que não é um soquete",
      "\nDuring handling of the above exception, another exception occurred:\n",
      "\u001b[1;31mOSError\u001b[0m                                   Traceback (most recent call last)",
      "\u001b[1;32m<ipython-input-26-a1cf53320f68>\u001b[0m in \u001b[0;36m<module>\u001b[1;34m\u001b[0m\n\u001b[0;32m     35\u001b[0m         \u001b[1;31m#Envia uma mensagem de resposta “File not Found”\u001b[0m\u001b[1;33m\u001b[0m\u001b[1;33m\u001b[0m\u001b[1;33m\u001b[0m\u001b[0m\n\u001b[0;32m     36\u001b[0m         \u001b[1;31m#codigo_inicio\u001b[0m\u001b[1;33m\u001b[0m\u001b[1;33m\u001b[0m\u001b[1;33m\u001b[0m\u001b[0m\n\u001b[1;32m---> 37\u001b[1;33m         \u001b[0mconnectionSocket\u001b[0m\u001b[1;33m.\u001b[0m\u001b[0msend\u001b[0m\u001b[1;33m(\u001b[0m\u001b[1;34m'<html lang=\"en\"> <body>404 - File Not Found: </body> </html> '\u001b[0m\u001b[1;33m.\u001b[0m\u001b[0mencode\u001b[0m\u001b[1;33m(\u001b[0m\u001b[1;33m)\u001b[0m\u001b[1;33m)\u001b[0m\u001b[1;33m\u001b[0m\u001b[1;33m\u001b[0m\u001b[0m\n\u001b[0m\u001b[0;32m     38\u001b[0m         \u001b[1;31m#codigo_fim\u001b[0m\u001b[1;33m\u001b[0m\u001b[1;33m\u001b[0m\u001b[1;33m\u001b[0m\u001b[0m\n\u001b[0;32m     39\u001b[0m \u001b[1;33m\u001b[0m\u001b[0m\n",
      "\u001b[1;31mOSError\u001b[0m: [WinError 10038] Foi tentada uma operação em algum item que não é um soquete"
     ]
    }
   ],
   "source": [
    "while True:\n",
    "    #Estabelece a conexão\n",
    "    print('Ready to serve...')\n",
    "    \n",
    "    #codigo_inicio\n",
    "    connectionSocket, addr = serverTcp.accept() \n",
    "    #codigo_fim\n",
    "    print ('Conectado por', addr)\n",
    "    \n",
    "    try:\n",
    "        #codigo_inicio\n",
    "        message = connectionSocket.recv(1024)\n",
    "        #codigo_fim\n",
    "        \n",
    "        #filename = message.decode().split()[1]\n",
    "        filename = message.decode().split()[0]\n",
    "        f = open(os.getcwd() + '/index.html', 'r')\n",
    "\n",
    "        #codigo_inicio\n",
    "        outputdata = f.read() \n",
    "       \n",
    "        #codigo_fim\n",
    "\n",
    "        #Envia um linha de cabeçalho HTTP para o socket\n",
    "        #codigo_inicio\n",
    "            #connectionSocket.send('Content-type','text/html')\n",
    "        #codigo_fim\n",
    "\n",
    "        #Envia o conteúdo do arquivo solicitado ao cliente\n",
    "        for i in range(0, len(outputdata)):\n",
    "            connectionSocket.send(outputdata[i].encode())\n",
    "            connectionSocket.send(\"\\r\\n\".encode())\n",
    "            connectionSocket.close()\n",
    "    except IOError:\n",
    "        #Envia uma mensagem de resposta “File not Found”\n",
    "        #codigo_inicio\n",
    "        connectionSocket.send('<html lang=\"en\"> <body>404 - File Not Found: </body> </html> '.encode())\n",
    "        #codigo_fim\n",
    "\n",
    "        #Fecha o socket cliente\n",
    "        #codigo_inicio\n",
    "        connectionSocket.close()\n",
    "        #codigo_fim\n",
    "serverSocket.close()\n",
    "sys.exit()#Termina o programa depois de enviar os dados"
   ]
  },
  {
   "cell_type": "code",
   "execution_count": null,
   "metadata": {
    "scrolled": true
   },
   "outputs": [],
   "source": [
    "class http(BaseHTTPRequestHandler): \n",
    "\n",
    "    def do_GET(self):\n",
    "        try:\n",
    "            if self.path.endswith(\".html\"):\n",
    "                f = open(os.getcwd() + self.path)\n",
    "                self.send_response(200)\n",
    "                self.send_header('Content-type','text/html')\n",
    "                self.end_headers()\n",
    "                self.wfile.write(f.read())\n",
    "                f.close()\n",
    "                return\n",
    "\n",
    "            return\n",
    "\n",
    "        except IOError:\n",
    "            self.send_error(404,'File Not Found: %s' % self.path)"
   ]
  },
  {
   "cell_type": "code",
   "execution_count": null,
   "metadata": {},
   "outputs": [],
   "source": [
    "os.getcwd()"
   ]
  }
 ],
 "metadata": {
  "kernelspec": {
   "display_name": "Python 3",
   "language": "python",
   "name": "python3"
  }
 },
 "nbformat": 4,
 "nbformat_minor": 2
}
