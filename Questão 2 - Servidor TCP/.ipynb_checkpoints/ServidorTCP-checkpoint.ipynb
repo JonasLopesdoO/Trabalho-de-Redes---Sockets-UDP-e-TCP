{
 "cells": [
  {
   "cell_type": "code",
   "execution_count": 1,
   "metadata": {},
   "outputs": [],
   "source": [
    "#import socket module\n",
    "from socket import *\n",
    "import sys # para terminar o programa"
   ]
  },
  {
   "cell_type": "code",
   "execution_count": 2,
   "metadata": {},
   "outputs": [],
   "source": [
    "serverSocket = socket(AF_INET, SOCK_STREAM)"
   ]
  },
  {
   "cell_type": "code",
   "execution_count": 4,
   "metadata": {},
   "outputs": [],
   "source": [
    "#Prepara o socket servidor\n",
    "#codigo_inicio\n",
    "#codigo_fim"
   ]
  },
  {
   "cell_type": "code",
   "execution_count": null,
   "metadata": {},
   "outputs": [],
   "source": [
    "while True:\n",
    "    #Estabelece a conexão\n",
    "    print('Ready to serve...')\n",
    "    \n",
    "    connectionSocket, addr = #codigo_inicio #codigo_fim\n",
    "    \n",
    "    try:\n",
    "        message = #codigo_inicio #codigo_fim\n",
    "    filename = message.split()[1]\n",
    "    f = open(filename[1:])\n",
    "    outputdata = #codigo_inicio #codigo_fim\n",
    "    \n",
    "    #Envia um linha de cabeçalho HTTP para o socket\n",
    "    #codigo_inicio\n",
    "    #codigo_fim\n",
    "    \n",
    "    #Envia o conteúdo do arquivo solicitado ao cliente\n",
    "    for i in range(0, len(outputdata)):\n",
    "        connectionSocket.send(outputdata[i].encode())\n",
    "        connectionSocket.send(\"\\r\\n\".encode())\n",
    "        connectionSocket.close()\n",
    "except IOError:\n",
    "    #Envia uma mensagem de resposta “File not Found”\n",
    "    #codigo_inicio\n",
    "    #codigo_fim\n",
    "    \n",
    "    #Fecha o socket cliente\n",
    "    #codigo_inicio\n",
    "    #codigo_fim\n",
    "serverSocket.close()\n",
    "sys.exit()#Termina o programa depois de enviar os dados"
   ]
  }
 ],
 "metadata": {
  "kernelspec": {
   "display_name": "Python 3",
   "language": "python",
   "name": "python3"
  },
  "language_info": {
   "codemirror_mode": {
    "name": "ipython",
    "version": 3
   },
   "file_extension": ".py",
   "mimetype": "text/x-python",
   "name": "python",
   "nbconvert_exporter": "python",
   "pygments_lexer": "ipython3",
   "version": "3.7.1"
  }
 },
 "nbformat": 4,
 "nbformat_minor": 2
}
