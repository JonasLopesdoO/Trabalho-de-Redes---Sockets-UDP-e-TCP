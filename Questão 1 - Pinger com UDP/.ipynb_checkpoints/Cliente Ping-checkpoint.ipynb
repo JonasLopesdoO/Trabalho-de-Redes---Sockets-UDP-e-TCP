{
 "cells": [
  {
   "cell_type": "markdown",
   "metadata": {},
   "source": [
    "# Cliente UDP"
   ]
  },
  {
   "cell_type": "code",
   "execution_count": 66,
   "metadata": {},
   "outputs": [],
   "source": [
    "#o modulo socket é a base para toda a comunicação Python em rede\n",
    "from socket import *\n",
    "import time\n",
    "from datetime import datetime"
   ]
  },
  {
   "cell_type": "code",
   "execution_count": 67,
   "metadata": {},
   "outputs": [],
   "source": [
    "#o nome ou IP do servidor. Se nome, uma consulta DNS será realizada. Porta do servidor.\n",
    "serverName = 'localhost'\n",
    "serverPort = 12000\n",
    "#serverPort = 12000"
   ]
  },
  {
   "cell_type": "code",
   "execution_count": 68,
   "metadata": {},
   "outputs": [],
   "source": [
    "#cria um socket cliente. o primeiro parametro indica que o endereço é o IPv4. o segundo indica que é UDP\n",
    "#se a porta não é especificada, o SO escolhe uma aleatória\n",
    "clientSocket = socket(AF_INET, SOCK_DGRAM)\n",
    "clientSocket.settimeout(1.0)"
   ]
  },
  {
   "cell_type": "code",
   "execution_count": 69,
   "metadata": {
    "scrolled": true
   },
   "outputs": [
    {
     "name": "stdout",
     "output_type": "stream",
     "text": [
      "Solicitação expirada\n",
      "PING 2 20:54:54 - RTT = 0.0024573802947998047\n",
      "Solicitação expirada\n",
      "PING 4 20:54:55 - RTT = 0.001714944839477539\n",
      "PING 5 20:54:55 - RTT = 0.001215219497680664\n",
      "PING 6 20:54:55 - RTT = 0.0004048347473144531\n",
      "PING 7 20:54:55 - RTT = 0.0003592967987060547\n",
      "Solicitação expirada\n",
      "Solicitação expirada\n",
      "PING 10 20:54:57 - RTT = 0.0019948482513427734\n"
     ]
    }
   ],
   "source": [
    "#envia a msg. .encode() transforma a string em bytes. as informações de ip de origem e porta também\n",
    "#estão contidas na mensagem\n",
    "ping = \"\"\n",
    "nseq = 0\n",
    "now = datetime.now()\n",
    "modifiedMessage = \"\"\n",
    "init = 0\n",
    "final = 0\n",
    "\n",
    "for i in range(10):\n",
    "    nseq = i+1\n",
    "    now = datetime.now() \n",
    "    ping = ping + \"PING \" + str(nseq) + \" \" + str(now.hour) + \":\" + str(now.minute) + \":\" + str(now.second)\n",
    "    \n",
    "    init = time.time()\n",
    "    clientSocket.sendto(ping.encode(),(serverName, serverPort))\n",
    "    try:\n",
    "        modifiedMessage, serverAddress = clientSocket.recvfrom(2048)\n",
    "    except:\n",
    "        print('Solicitação expirada')\n",
    "    else:\n",
    "        fin = time.time()\n",
    "        RTT = fin - init\n",
    "        print(modifiedMessage.decode() + \" - RTT = \" + str(RTT))\n",
    "    ping = \"\""
   ]
  }
 ],
 "metadata": {
  "kernelspec": {
   "display_name": "Python 3",
   "language": "python",
   "name": "python3"
  },
  "language_info": {
   "codemirror_mode": {
    "name": "ipython",
    "version": 3
   },
   "file_extension": ".py",
   "mimetype": "text/x-python",
   "name": "python",
   "nbconvert_exporter": "python",
   "pygments_lexer": "ipython3",
   "version": "3.7.1"
  }
 },
 "nbformat": 4,
 "nbformat_minor": 2
}
