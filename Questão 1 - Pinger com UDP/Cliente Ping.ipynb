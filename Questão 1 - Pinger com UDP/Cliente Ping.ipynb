{
 "cells": [
  {
   "cell_type": "markdown",
   "metadata": {},
   "source": [
    "# Cliente UDP"
   ]
  },
  {
   "cell_type": "code",
   "execution_count": 1,
   "metadata": {},
   "outputs": [],
   "source": [
    "#o modulo socket é a base para toda a comunicação Python em rede\n",
    "from socket import *\n",
    "import time\n",
    "import requests\n",
    "from datetime import datetime"
   ]
  },
  {
   "cell_type": "code",
   "execution_count": 2,
   "metadata": {},
   "outputs": [],
   "source": [
    "#o nome ou IP do servidor. Se nome, uma consulta DNS será realizada. Porta do servidor.\n",
    "serverName = 'localhost'\n",
    "serverPort = 12345\n",
    "#serverPort = 12345"
   ]
  },
  {
   "cell_type": "code",
   "execution_count": 3,
   "metadata": {},
   "outputs": [],
   "source": [
    "#cria um socket cliente. o primeiro parametro indica que o endereço é o IPv4. o segundo indica que é UDP\n",
    "#se a porta não é especificada, o SO escolhe uma aleatória\n",
    "clientSocket = socket(AF_INET, SOCK_DGRAM)\n",
    "clientSocket.settimeout(1.0)"
   ]
  },
  {
   "cell_type": "code",
   "execution_count": 4,
   "metadata": {},
   "outputs": [
    {
     "name": "stdout",
     "output_type": "stream",
     "text": [
      "Solicitação esgotada\n",
      "\n",
      "Solicitação esgotada\n",
      "\n",
      "Solicitação esgotada\n",
      "\n",
      "Solicitação esgotada\n",
      "\n",
      "Solicitação esgotada\n",
      "\n",
      "Solicitação esgotada\n",
      "\n",
      "Solicitação esgotada\n",
      "\n",
      "Solicitação esgotada\n",
      "\n",
      "Solicitação esgotada\n",
      "\n",
      "Solicitação esgotada\n",
      "\n"
     ]
    }
   ],
   "source": [
    "#envia a msg. .encode() transforma a string em bytes. as informações de ip de origem e porta também\n",
    "#estão contidas na mensagem\n",
    "ping = \"\"\n",
    "nseq = 0\n",
    "now = datetime.now()\n",
    "modifiedMessage = \"\"\n",
    "\n",
    "for i in range(10):\n",
    "    nseq = i+1\n",
    "     \n",
    "    ping = ping + \"PING \" + str(nseq) + \" \" + str(now.hour) + \":\" + str(now.second) + \" \" + str()\n",
    "    \n",
    "    clientSocket.sendto(ping.encode(),(serverName, serverPort))\n",
    "    try:\n",
    "        modifiedMessage, serverAddress = clientSocket.recvfrom(2048)\n",
    "    except:\n",
    "        print('Solicitação esgotada')\n",
    "    \n",
    "    print(modifiedMessage)\n",
    "    ping = \"\""
   ]
  }
 ],
 "metadata": {
  "kernelspec": {
   "display_name": "Python 3",
   "language": "python",
   "name": "python3"
  },
  "language_info": {
   "codemirror_mode": {
    "name": "ipython",
    "version": 3
   },
   "file_extension": ".py",
   "mimetype": "text/x-python",
   "name": "python",
   "nbconvert_exporter": "python",
   "pygments_lexer": "ipython3",
   "version": "3.7.1"
  }
 },
 "nbformat": 4,
 "nbformat_minor": 2
}
