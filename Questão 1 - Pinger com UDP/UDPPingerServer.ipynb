{
 "cells": [
  {
   "cell_type": "markdown",
   "metadata": {},
   "source": [
    "# Servidor UDP Pinger"
   ]
  },
  {
   "cell_type": "code",
   "execution_count": 14,
   "metadata": {},
   "outputs": [],
   "source": [
    "# UDPPingerServer.py\n",
    "#o modulo socket é a base para toda a comunicação Python em rede\n",
    "# precisaremos do módulo random para gerar perdas de pacotes aleatórias\n",
    "import random\n",
    "from socket import *"
   ]
  },
  {
   "cell_type": "code",
   "execution_count": 15,
   "metadata": {},
   "outputs": [],
   "source": [
    "# Cria um socket UDP\n",
    "# Note o uso de SOCK_DGRAM para pacotes UDP\n",
    "#serverPort = 1234\n",
    "serverSocket = socket(AF_INET, SOCK_DGRAM)"
   ]
  },
  {
   "cell_type": "code",
   "execution_count": 16,
   "metadata": {},
   "outputs": [],
   "source": [
    "#atribui uma porta ao servidor\n",
    "serverPort = 12345\n",
    "# Atribui um endereço IP e um número de porta ao socket\n",
    "serverSocket.bind(('', serverPort))"
   ]
  },
  {
   "cell_type": "code",
   "execution_count": 17,
   "metadata": {},
   "outputs": [
    {
     "name": "stdout",
     "output_type": "stream",
     "text": [
      "The server is ready to receive\n"
     ]
    }
   ],
   "source": [
    "print(\"The server is ready to receive\")"
   ]
  },
  {
   "cell_type": "code",
   "execution_count": 18,
   "metadata": {},
   "outputs": [
    {
     "ename": "IndentationError",
     "evalue": "expected an indented block (<ipython-input-18-83016f2b543f>, line 10)",
     "output_type": "error",
     "traceback": [
      "\u001b[1;36m  File \u001b[1;32m\"<ipython-input-18-83016f2b543f>\"\u001b[1;36m, line \u001b[1;32m10\u001b[0m\n\u001b[1;33m    continue\u001b[0m\n\u001b[1;37m           ^\u001b[0m\n\u001b[1;31mIndentationError\u001b[0m\u001b[1;31m:\u001b[0m expected an indented block\n"
     ]
    }
   ],
   "source": [
    "while True:\n",
    "    # Gera um número aleatório de 0 a 10\n",
    "    rand = random.randint(0, 10)\n",
    "    # Recebe do cliente o pacote junto com seu endereço de destino\n",
    "    message, address = serverSocket.recvfrom(1024)\n",
    "    # Escreve a mensagem em letras maiúsculas\n",
    "    message = message.upper()\n",
    "    # Se rand < 4, consideramos que o pacote foi perdido\n",
    "    if rand < 4:\n",
    "        continue\n",
    "        # Caso contrário, o servidor responde\n",
    "        serverSocket.sendto(message, address)\n"
   ]
  }
 ],
 "metadata": {
  "kernelspec": {
   "display_name": "Python 3",
   "language": "python",
   "name": "python3"
  },
  "language_info": {
   "codemirror_mode": {
    "name": "ipython",
    "version": 3
   },
   "file_extension": ".py",
   "mimetype": "text/x-python",
   "name": "python",
   "nbconvert_exporter": "python",
   "pygments_lexer": "ipython3",
   "version": "3.7.1"
  }
 },
 "nbformat": 4,
 "nbformat_minor": 2
}
