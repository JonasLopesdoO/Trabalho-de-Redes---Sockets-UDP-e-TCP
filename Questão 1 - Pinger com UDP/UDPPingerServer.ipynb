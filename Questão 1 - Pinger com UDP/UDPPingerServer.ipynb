{
 "cells": [
  {
   "cell_type": "markdown",
   "metadata": {},
   "source": [
    "# Servidor UDP Pinger"
   ]
  },
  {
   "cell_type": "code",
   "execution_count": null,
   "metadata": {},
   "outputs": [],
   "source": [
    "# UDPPingerServer.py\n",
    "#o modulo socket é a base para toda a comunicação Python em rede\n",
    "# precisaremos do módulo random para gerar perdas de pacotes aleatórias\n",
    "import random\n",
    "from socket import *"
   ]
  },
  {
   "cell_type": "code",
   "execution_count": null,
   "metadata": {},
   "outputs": [],
   "source": [
    "# Cria um socket UDP\n",
    "# Note o uso de SOCK_DGRAM para pacotes UDP\n",
    "#serverPort = 12000\n",
    "serverSocket = socket(AF_INET, SOCK_DGRAM)"
   ]
  },
  {
   "cell_type": "code",
   "execution_count": null,
   "metadata": {},
   "outputs": [],
   "source": [
    "#atribui uma porta ao servidor\n",
    "serverPort = 12000\n",
    "# Atribui um endereço IP e um número de porta ao socket\n",
    "serverSocket.bind(('', serverPort))"
   ]
  },
  {
   "cell_type": "code",
   "execution_count": null,
   "metadata": {
    "scrolled": true
   },
   "outputs": [],
   "source": [
    "print(\"The server is ready to receive\")"
   ]
  },
  {
   "cell_type": "code",
   "execution_count": null,
   "metadata": {},
   "outputs": [],
   "source": [
    "while True:\n",
    "    # Gera um número aleatório de 0 a 10\n",
    "    rand = random.randint(0, 10)\n",
    "    # Recebe do cliente o pacote junto com seu endereço de destino\n",
    "    message, address = serverSocket.recvfrom(1024)\n",
    "    # Escreve a mensagem em letras maiúsculas\n",
    "    message = message.decode()\n",
    "    message = message.upper()\n",
    "    message = message.encode()\n",
    "    # Se rand < 3, consideramos que o pacote foi perdido\n",
    "    #Coloquei o 3 porque o índice começa do 0\n",
    "    if rand < 3:\n",
    "        print(rand)\n",
    "        continue\n",
    "        # Caso contrário, o servidor responde\n",
    "    serverSocket.sendto(message, address)\n"
   ]
  }
 ],
 "metadata": {
  "kernelspec": {
   "display_name": "Python 3",
   "language": "python",
   "name": "python3"
  },
  "language_info": {
   "codemirror_mode": {
    "name": "ipython",
    "version": 3
   },
   "file_extension": ".py",
   "mimetype": "text/x-python",
   "name": "python",
   "nbconvert_exporter": "python",
   "pygments_lexer": "ipython3",
   "version": "3.7.1"
  }
 },
 "nbformat": 4,
 "nbformat_minor": 2
}
